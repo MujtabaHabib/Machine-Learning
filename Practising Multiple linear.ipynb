{
 "cells": [
  {
   "cell_type": "code",
   "execution_count": 1,
   "id": "3e0194c5",
   "metadata": {},
   "outputs": [],
   "source": [
    "from bioinfokit.analys import stat, get_data\n",
    "import numpy as np\n",
    "import pandas as pd\n",
    "import matplotlib.pyplot as plt\n",
    "import seaborn as sns\n"
   ]
  },
  {
   "cell_type": "code",
   "execution_count": 2,
   "id": "32a8cfa1",
   "metadata": {},
   "outputs": [
    {
     "data": {
      "text/html": [
       "<div>\n",
       "<style scoped>\n",
       "    .dataframe tbody tr th:only-of-type {\n",
       "        vertical-align: middle;\n",
       "    }\n",
       "\n",
       "    .dataframe tbody tr th {\n",
       "        vertical-align: top;\n",
       "    }\n",
       "\n",
       "    .dataframe thead th {\n",
       "        text-align: right;\n",
       "    }\n",
       "</style>\n",
       "<table border=\"1\" class=\"dataframe\">\n",
       "  <thead>\n",
       "    <tr style=\"text-align: right;\">\n",
       "      <th></th>\n",
       "      <th>R&amp;D Spend</th>\n",
       "      <th>Administration</th>\n",
       "      <th>Marketing Spend</th>\n",
       "      <th>State</th>\n",
       "      <th>Profit</th>\n",
       "    </tr>\n",
       "  </thead>\n",
       "  <tbody>\n",
       "    <tr>\n",
       "      <th>0</th>\n",
       "      <td>165349.20</td>\n",
       "      <td>136897.80</td>\n",
       "      <td>471784.10</td>\n",
       "      <td>New York</td>\n",
       "      <td>192261.83</td>\n",
       "    </tr>\n",
       "    <tr>\n",
       "      <th>1</th>\n",
       "      <td>162597.70</td>\n",
       "      <td>151377.59</td>\n",
       "      <td>443898.53</td>\n",
       "      <td>California</td>\n",
       "      <td>191792.06</td>\n",
       "    </tr>\n",
       "    <tr>\n",
       "      <th>2</th>\n",
       "      <td>153441.51</td>\n",
       "      <td>101145.55</td>\n",
       "      <td>407934.54</td>\n",
       "      <td>Florida</td>\n",
       "      <td>191050.39</td>\n",
       "    </tr>\n",
       "    <tr>\n",
       "      <th>3</th>\n",
       "      <td>144372.41</td>\n",
       "      <td>118671.85</td>\n",
       "      <td>383199.62</td>\n",
       "      <td>New York</td>\n",
       "      <td>182901.99</td>\n",
       "    </tr>\n",
       "    <tr>\n",
       "      <th>4</th>\n",
       "      <td>142107.34</td>\n",
       "      <td>91391.77</td>\n",
       "      <td>366168.42</td>\n",
       "      <td>Florida</td>\n",
       "      <td>166187.94</td>\n",
       "    </tr>\n",
       "  </tbody>\n",
       "</table>\n",
       "</div>"
      ],
      "text/plain": [
       "   R&D Spend  Administration  Marketing Spend       State     Profit\n",
       "0  165349.20       136897.80        471784.10    New York  192261.83\n",
       "1  162597.70       151377.59        443898.53  California  191792.06\n",
       "2  153441.51       101145.55        407934.54     Florida  191050.39\n",
       "3  144372.41       118671.85        383199.62    New York  182901.99\n",
       "4  142107.34        91391.77        366168.42     Florida  166187.94"
      ]
     },
     "execution_count": 2,
     "metadata": {},
     "output_type": "execute_result"
    }
   ],
   "source": [
    "import pandas as pd\n",
    "df = pd.read_csv(\"50_startups.csv\")\n",
    "df.head()"
   ]
  },
  {
   "cell_type": "code",
   "execution_count": 3,
   "id": "a416c8a6",
   "metadata": {},
   "outputs": [],
   "source": [
    "X = df.iloc[:,[0,1,2,3,4]].values\n",
    "y = df.iloc[:,4].values"
   ]
  },
  {
   "cell_type": "code",
   "execution_count": 4,
   "id": "6dd682a9",
   "metadata": {},
   "outputs": [
    {
     "name": "stdout",
     "output_type": "stream",
     "text": [
      "[[165349.2 136897.8 471784.1 'New York' 192261.83]\n",
      " [162597.7 151377.59 443898.53 'California' 191792.06]\n",
      " [153441.51 101145.55 407934.54 'Florida' 191050.39]\n",
      " [144372.41 118671.85 383199.62 'New York' 182901.99]\n",
      " [142107.34 91391.77 366168.42 'Florida' 166187.94]\n",
      " [131876.9 99814.71 362861.36 'New York' 156991.12]\n",
      " [134615.46 147198.87 127716.82 'California' 156122.51]\n",
      " [130298.13 145530.06 323876.68 'Florida' 155752.6]\n",
      " [120542.52 148718.95 311613.29 'New York' 152211.77]\n",
      " [123334.88 108679.17 304981.62 'California' 149759.96]\n",
      " [101913.08 110594.11 229160.95 'Florida' 146121.95]\n",
      " [100671.96 91790.61 249744.55 'California' 144259.4]\n",
      " [93863.75 127320.38 249839.44 'Florida' 141585.52]\n",
      " [91992.39 135495.07 252664.93 'California' 134307.35]\n",
      " [119943.24 156547.42 256512.92 'Florida' 132602.65]\n",
      " [114523.61 122616.84 261776.23 'New York' 129917.04]\n",
      " [78013.11 121597.55 264346.06 'California' 126992.93]\n",
      " [94657.16 145077.58 282574.31 'New York' 125370.37]\n",
      " [91749.16 114175.79 294919.57 'Florida' 124266.9]\n",
      " [86419.7 153514.11 0.0 'New York' 122776.86]\n",
      " [76253.86 113867.3 298664.47 'California' 118474.03]\n",
      " [78389.47 153773.43 299737.29 'New York' 111313.02]\n",
      " [73994.56 122782.75 303319.26 'Florida' 110352.25]\n",
      " [67532.53 105751.03 304768.73 'Florida' 108733.99]\n",
      " [77044.01 99281.34 140574.81 'New York' 108552.04]\n",
      " [64664.71 139553.16 137962.62 'California' 107404.34]\n",
      " [75328.87 144135.98 134050.07 'Florida' 105733.54]\n",
      " [72107.6 127864.55 353183.81 'New York' 105008.31]\n",
      " [66051.52 182645.56 118148.2 'Florida' 103282.38]\n",
      " [65605.48 153032.06 107138.38 'New York' 101004.64]\n",
      " [61994.48 115641.28 91131.24 'Florida' 99937.59]\n",
      " [61136.38 152701.92 88218.23 'New York' 97483.56]\n",
      " [63408.86 129219.61 46085.25 'California' 97427.84]\n",
      " [55493.95 103057.49 214634.81 'Florida' 96778.92]\n",
      " [46426.07 157693.92 210797.67 'California' 96712.8]\n",
      " [46014.02 85047.44 205517.64 'New York' 96479.51]\n",
      " [28663.76 127056.21 201126.82 'Florida' 90708.19]\n",
      " [44069.95 51283.14 197029.42 'California' 89949.14]\n",
      " [20229.59 65947.93 185265.1 'New York' 81229.06]\n",
      " [38558.51 82982.09 174999.3 'California' 81005.76]\n",
      " [28754.33 118546.05 172795.67 'California' 78239.91]\n",
      " [27892.92 84710.77 164470.71 'Florida' 77798.83]\n",
      " [23640.93 96189.63 148001.11 'California' 71498.49]\n",
      " [15505.73 127382.3 35534.17 'New York' 69758.98]\n",
      " [22177.74 154806.14 28334.72 'California' 65200.33]\n",
      " [1000.23 124153.04 1903.93 'New York' 64926.08]\n",
      " [1315.46 115816.21 297114.46 'Florida' 49490.75]\n",
      " [0.0 135426.92 0.0 'California' 42559.73]\n",
      " [542.05 51743.15 0.0 'New York' 35673.41]\n",
      " [0.0 116983.8 45173.06 'California' 14681.4]]\n",
      "[192261.83 191792.06 191050.39 182901.99 166187.94 156991.12 156122.51\n",
      " 155752.6  152211.77 149759.96 146121.95 144259.4  141585.52 134307.35\n",
      " 132602.65 129917.04 126992.93 125370.37 124266.9  122776.86 118474.03\n",
      " 111313.02 110352.25 108733.99 108552.04 107404.34 105733.54 105008.31\n",
      " 103282.38 101004.64  99937.59  97483.56  97427.84  96778.92  96712.8\n",
      "  96479.51  90708.19  89949.14  81229.06  81005.76  78239.91  77798.83\n",
      "  71498.49  69758.98  65200.33  64926.08  49490.75  42559.73  35673.41\n",
      "  14681.4 ]\n"
     ]
    }
   ],
   "source": [
    "print(X)\n",
    "print(y)"
   ]
  },
  {
   "cell_type": "code",
   "execution_count": 5,
   "id": "9146727a",
   "metadata": {},
   "outputs": [
    {
     "data": {
      "text/plain": [
       "array([[165349.2, 136897.8, 471784.1, 2, 192261.83],\n",
       "       [162597.7, 151377.59, 443898.53, 0, 191792.06],\n",
       "       [153441.51, 101145.55, 407934.54, 1, 191050.39],\n",
       "       [144372.41, 118671.85, 383199.62, 2, 182901.99],\n",
       "       [142107.34, 91391.77, 366168.42, 1, 166187.94],\n",
       "       [131876.9, 99814.71, 362861.36, 2, 156991.12],\n",
       "       [134615.46, 147198.87, 127716.82, 0, 156122.51],\n",
       "       [130298.13, 145530.06, 323876.68, 1, 155752.6],\n",
       "       [120542.52, 148718.95, 311613.29, 2, 152211.77],\n",
       "       [123334.88, 108679.17, 304981.62, 0, 149759.96],\n",
       "       [101913.08, 110594.11, 229160.95, 1, 146121.95],\n",
       "       [100671.96, 91790.61, 249744.55, 0, 144259.4],\n",
       "       [93863.75, 127320.38, 249839.44, 1, 141585.52],\n",
       "       [91992.39, 135495.07, 252664.93, 0, 134307.35],\n",
       "       [119943.24, 156547.42, 256512.92, 1, 132602.65],\n",
       "       [114523.61, 122616.84, 261776.23, 2, 129917.04],\n",
       "       [78013.11, 121597.55, 264346.06, 0, 126992.93],\n",
       "       [94657.16, 145077.58, 282574.31, 2, 125370.37],\n",
       "       [91749.16, 114175.79, 294919.57, 1, 124266.9],\n",
       "       [86419.7, 153514.11, 0.0, 2, 122776.86],\n",
       "       [76253.86, 113867.3, 298664.47, 0, 118474.03],\n",
       "       [78389.47, 153773.43, 299737.29, 2, 111313.02],\n",
       "       [73994.56, 122782.75, 303319.26, 1, 110352.25],\n",
       "       [67532.53, 105751.03, 304768.73, 1, 108733.99],\n",
       "       [77044.01, 99281.34, 140574.81, 2, 108552.04],\n",
       "       [64664.71, 139553.16, 137962.62, 0, 107404.34],\n",
       "       [75328.87, 144135.98, 134050.07, 1, 105733.54],\n",
       "       [72107.6, 127864.55, 353183.81, 2, 105008.31],\n",
       "       [66051.52, 182645.56, 118148.2, 1, 103282.38],\n",
       "       [65605.48, 153032.06, 107138.38, 2, 101004.64],\n",
       "       [61994.48, 115641.28, 91131.24, 1, 99937.59],\n",
       "       [61136.38, 152701.92, 88218.23, 2, 97483.56],\n",
       "       [63408.86, 129219.61, 46085.25, 0, 97427.84],\n",
       "       [55493.95, 103057.49, 214634.81, 1, 96778.92],\n",
       "       [46426.07, 157693.92, 210797.67, 0, 96712.8],\n",
       "       [46014.02, 85047.44, 205517.64, 2, 96479.51],\n",
       "       [28663.76, 127056.21, 201126.82, 1, 90708.19],\n",
       "       [44069.95, 51283.14, 197029.42, 0, 89949.14],\n",
       "       [20229.59, 65947.93, 185265.1, 2, 81229.06],\n",
       "       [38558.51, 82982.09, 174999.3, 0, 81005.76],\n",
       "       [28754.33, 118546.05, 172795.67, 0, 78239.91],\n",
       "       [27892.92, 84710.77, 164470.71, 1, 77798.83],\n",
       "       [23640.93, 96189.63, 148001.11, 0, 71498.49],\n",
       "       [15505.73, 127382.3, 35534.17, 2, 69758.98],\n",
       "       [22177.74, 154806.14, 28334.72, 0, 65200.33],\n",
       "       [1000.23, 124153.04, 1903.93, 2, 64926.08],\n",
       "       [1315.46, 115816.21, 297114.46, 1, 49490.75],\n",
       "       [0.0, 135426.92, 0.0, 0, 42559.73],\n",
       "       [542.05, 51743.15, 0.0, 2, 35673.41],\n",
       "       [0.0, 116983.8, 45173.06, 0, 14681.4]], dtype=object)"
      ]
     },
     "execution_count": 5,
     "metadata": {},
     "output_type": "execute_result"
    }
   ],
   "source": [
    "# Encoding categorical variable\n",
    "\n",
    "from sklearn.preprocessing import LabelEncoder, OneHotEncoder\n",
    "\n",
    "le = LabelEncoder()\n",
    "X[:,3] = le.fit_transform(X[:,3]) # X[\"state\"]\n",
    "X"
   ]
  },
  {
   "cell_type": "code",
   "execution_count": 6,
   "id": "b6c3329e",
   "metadata": {},
   "outputs": [],
   "source": [
    "#Using OneHotEncoder\n",
    "\n",
    "# ohe = OneHotEncoder()\n",
    "\n",
    "# X1 = ohe.fit_transform(X)"
   ]
  },
  {
   "cell_type": "code",
   "execution_count": 7,
   "id": "67f4d22c",
   "metadata": {},
   "outputs": [
    {
     "name": "stdout",
     "output_type": "stream",
     "text": [
      "(35, 5)\n",
      "(15, 5)\n"
     ]
    }
   ],
   "source": [
    "from sklearn.model_selection import train_test_split\n",
    "\n",
    "X_train,X_test,y_train,y_test = \\\n",
    "train_test_split(X,y, test_size=0.3, random_state=42)\n",
    "\n",
    "print(X_train.shape)\n",
    "print(X_test.shape)"
   ]
  },
  {
   "cell_type": "code",
   "execution_count": 8,
   "id": "57213792",
   "metadata": {},
   "outputs": [
    {
     "data": {
      "text/plain": [
       "LinearRegression()"
      ]
     },
     "execution_count": 8,
     "metadata": {},
     "output_type": "execute_result"
    }
   ],
   "source": [
    "#fit multiple linear regression test\n",
    "from sklearn.linear_model import LinearRegression\n",
    "\n",
    "regressor = LinearRegression()\n",
    "regressor.fit(X_train, y_train)\n",
    "regressor"
   ]
  },
  {
   "cell_type": "code",
   "execution_count": 9,
   "id": "ddddf2ce",
   "metadata": {},
   "outputs": [
    {
     "data": {
      "text/plain": [
       "array([134307.35,  81005.76,  99937.59,  64926.08, 125370.37])"
      ]
     },
     "execution_count": 9,
     "metadata": {},
     "output_type": "execute_result"
    }
   ],
   "source": [
    "# Predcitng the test results\n",
    "\n",
    "y_pred = regressor.predict(X_test)\n",
    "y_pred[:5]"
   ]
  },
  {
   "cell_type": "code",
   "execution_count": 10,
   "id": "39cc1bad",
   "metadata": {},
   "outputs": [
    {
     "name": "stdout",
     "output_type": "stream",
     "text": [
      "The Mean Absolute Error is:  2.7648638933897017e-11\n",
      "The Mean Squared Error is:  1.3587820195537735e-21\n"
     ]
    }
   ],
   "source": [
    "from sklearn.metrics import accuracy_score, mean_squared_error, mean_absolute_error\n",
    "\n",
    "# accuracy = (y_test,y_pred)\n",
    "# accuracy\n",
    "mae = mean_absolute_error(y_test,y_pred)\n",
    "print(\"The Mean Absolute Error is: \", mae)\n",
    "mse = mean_squared_error(y_test,y_pred)\n",
    "print(\"The Mean Squared Error is: \", mse)\n"
   ]
  },
  {
   "cell_type": "code",
   "execution_count": 11,
   "id": "7f8892f3",
   "metadata": {},
   "outputs": [
    {
     "data": {
      "text/plain": [
       "array([134307.35,  81005.76,  99937.59,  64926.08, 125370.37,  35673.41,\n",
       "       105733.54, 107404.34,  97427.84, 122776.86, 141585.52, 166187.94,\n",
       "        89949.14, 152211.77, 182901.99])"
      ]
     },
     "execution_count": 11,
     "metadata": {},
     "output_type": "execute_result"
    }
   ],
   "source": [
    "y_test"
   ]
  },
  {
   "cell_type": "code",
   "execution_count": 12,
   "id": "3accdbb6",
   "metadata": {},
   "outputs": [
    {
     "data": {
      "text/plain": [
       "array([134307.35,  81005.76,  99937.59,  64926.08, 125370.37,  35673.41,\n",
       "       105733.54, 107404.34,  97427.84, 122776.86, 141585.52, 166187.94,\n",
       "        89949.14, 152211.77, 182901.99])"
      ]
     },
     "execution_count": 12,
     "metadata": {},
     "output_type": "execute_result"
    }
   ],
   "source": [
    "y_pred"
   ]
  },
  {
   "cell_type": "code",
   "execution_count": 13,
   "id": "653680e2",
   "metadata": {},
   "outputs": [
    {
     "data": {
      "text/plain": [
       "array([-1.50080220e-15,  3.80213357e-16, -1.71549833e-16,  2.49060909e-12,\n",
       "        1.00000000e+00])"
      ]
     },
     "execution_count": 13,
     "metadata": {},
     "output_type": "execute_result"
    }
   ],
   "source": [
    "regressor.coef_"
   ]
  },
  {
   "cell_type": "code",
   "execution_count": 14,
   "id": "1df2772d",
   "metadata": {},
   "outputs": [
    {
     "data": {
      "text/plain": [
       "-4.3655745685100555e-11"
      ]
     },
     "execution_count": 14,
     "metadata": {},
     "output_type": "execute_result"
    }
   ],
   "source": [
    "regressor.intercept_"
   ]
  },
  {
   "cell_type": "code",
   "execution_count": 16,
   "id": "ce8c3a76",
   "metadata": {},
   "outputs": [
    {
     "data": {
      "text/plain": [
       "<seaborn.axisgrid.PairGrid at 0x1c98569e5e0>"
      ]
     },
     "execution_count": 16,
     "metadata": {},
     "output_type": "execute_result"
    },
    {
     "data": {
      "image/png": "[encoded data removed]",
      "text/plain": [
       "<Figure size 720x720 with 20 Axes>"
      ]
     },
     "metadata": {
      "needs_background": "light"
     },
     "output_type": "display_data"
    }
   ],
   "source": [
    "sns.pairplot(df)"
   ]
  },
  {
   "cell_type": "code",
   "execution_count": 17,
   "id": "a001e371",
   "metadata": {},
   "outputs": [
    {
     "data": {
      "text/html": [
       "<div>\n",
       "<style scoped>\n",
       "    .dataframe tbody tr th:only-of-type {\n",
       "        vertical-align: middle;\n",
       "    }\n",
       "\n",
       "    .dataframe tbody tr th {\n",
       "        vertical-align: top;\n",
       "    }\n",
       "\n",
       "    .dataframe thead th {\n",
       "        text-align: right;\n",
       "    }\n",
       "</style>\n",
       "<table border=\"1\" class=\"dataframe\">\n",
       "  <thead>\n",
       "    <tr style=\"text-align: right;\">\n",
       "      <th></th>\n",
       "      <th>R&amp;D Spend</th>\n",
       "      <th>Administration</th>\n",
       "      <th>Marketing Spend</th>\n",
       "      <th>Profit</th>\n",
       "    </tr>\n",
       "  </thead>\n",
       "  <tbody>\n",
       "    <tr>\n",
       "      <th>R&amp;D Spend</th>\n",
       "      <td>1.000000</td>\n",
       "      <td>0.241955</td>\n",
       "      <td>0.724248</td>\n",
       "      <td>0.972900</td>\n",
       "    </tr>\n",
       "    <tr>\n",
       "      <th>Administration</th>\n",
       "      <td>0.241955</td>\n",
       "      <td>1.000000</td>\n",
       "      <td>-0.032154</td>\n",
       "      <td>0.200717</td>\n",
       "    </tr>\n",
       "    <tr>\n",
       "      <th>Marketing Spend</th>\n",
       "      <td>0.724248</td>\n",
       "      <td>-0.032154</td>\n",
       "      <td>1.000000</td>\n",
       "      <td>0.747766</td>\n",
       "    </tr>\n",
       "    <tr>\n",
       "      <th>Profit</th>\n",
       "      <td>0.972900</td>\n",
       "      <td>0.200717</td>\n",
       "      <td>0.747766</td>\n",
       "      <td>1.000000</td>\n",
       "    </tr>\n",
       "  </tbody>\n",
       "</table>\n",
       "</div>"
      ],
      "text/plain": [
       "                 R&D Spend  Administration  Marketing Spend    Profit\n",
       "R&D Spend         1.000000        0.241955         0.724248  0.972900\n",
       "Administration    0.241955        1.000000        -0.032154  0.200717\n",
       "Marketing Spend   0.724248       -0.032154         1.000000  0.747766\n",
       "Profit            0.972900        0.200717         0.747766  1.000000"
      ]
     },
     "execution_count": 17,
     "metadata": {},
     "output_type": "execute_result"
    }
   ],
   "source": [
    "df.corr()"
   ]
  },
  {
   "cell_type": "code",
   "execution_count": null,
   "id": "872dac61",
   "metadata": {},
   "outputs": [],
   "source": []
  }
 ],
 "metadata": {
  "kernelspec": {
   "display_name": "Python 3 (ipykernel)",
   "language": "python",
   "name": "python3"
  },
  "language_info": {
   "codemirror_mode": {
    "name": "ipython",
    "version": 3
   },
   "file_extension": ".py",
   "mimetype": "text/x-python",
   "name": "python",
   "nbconvert_exporter": "python",
   "pygments_lexer": "ipython3",
   "version": "3.9.12"
  }
 },
 "nbformat": 4,
 "nbformat_minor": 5
}
