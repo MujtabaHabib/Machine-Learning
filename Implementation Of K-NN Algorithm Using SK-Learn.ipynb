{
 "cells": [
  {
   "cell_type": "markdown",
   "id": "fdea9651",
   "metadata": {},
   "source": [
    "# The Scikit-Learn California Housing Dataset\n",
    "\n",
    "We are going to use the California housing dataset to illustrate how the KNN algorithm works. The dataset was derived from the 1990 U.S. census. One row of the dataset represents the census of one block group.\n",
    "\n",
    "### The dataset consists of nine attributes:\n",
    "\n",
    "- MedInc - median income in block group\n",
    "- HouseAge - median house age in a block group\n",
    "- AveRooms - the average number of rooms (provided per household)\n",
    "- AveBedrms - the average number of bedrooms (provided per household)\n",
    "- Population - block group population\n",
    "- AveOccup - the average number of household members\n",
    "- Latitude - block group latitude\n",
    "- Longitude - block group longitude\n",
    "- MedHouseVal - median house value for California districts (hundreds of thousands of dollars)\n",
    "\n",
    "### The dataset is already part of the Scikit-Learn library, we only need to import it and load it as a dataframe:"
   ]
  },
  {
   "cell_type": "code",
   "execution_count": 5,
   "id": "e609a8b5",
   "metadata": {},
   "outputs": [],
   "source": [
    "from sklearn.datasets import fetch_california_housing\n",
    "# as_frame=True loads the data in a dataframe format, with other metadata besides it\n",
    "california_housing = fetch_california_housing(as_frame=True)\n",
    "# Select only the dataframe part and assign it to the df variable\n",
    "df = california_housing.frame"
   ]
  },
  {
   "cell_type": "markdown",
   "id": "e4f5b24b",
   "metadata": {},
   "source": [
    "## Regression with K-Nearest Neighbors with Scikit-Learn\n",
    "\n",
    "So far, we got to know our dataset and now can proceed to other steps in the KNN algorithm.\n",
    "\n",
    "## Preprocessing Data for KNN Regression"
   ]
  },
  {
   "cell_type": "code",
   "execution_count": 6,
   "id": "c440cfc7",
   "metadata": {},
   "outputs": [],
   "source": [
    "y = df['MedHouseVal']\n",
    "X = df.drop(['MedHouseVal'], axis = 1)"
   ]
  },
  {
   "cell_type": "markdown",
   "id": "ed2c75f3",
   "metadata": {},
   "source": [
    "By looking at our variables descriptions, we can see that we have differences in measurements. To avoid guessing, let's use the describe() method to check:"
   ]
  },
  {
   "cell_type": "code",
   "execution_count": 7,
   "id": "0bb28b69",
   "metadata": {},
   "outputs": [
    {
     "data": {
      "text/html": [
       "<div>\n",
       "<style scoped>\n",
       "    .dataframe tbody tr th:only-of-type {\n",
       "        vertical-align: middle;\n",
       "    }\n",
       "\n",
       "    .dataframe tbody tr th {\n",
       "        vertical-align: top;\n",
       "    }\n",
       "\n",
       "    .dataframe thead th {\n",
       "        text-align: right;\n",
       "    }\n",
       "</style>\n",
       "<table border=\"1\" class=\"dataframe\">\n",
       "  <thead>\n",
       "    <tr style=\"text-align: right;\">\n",
       "      <th></th>\n",
       "      <th>count</th>\n",
       "      <th>mean</th>\n",
       "      <th>std</th>\n",
       "      <th>min</th>\n",
       "      <th>25%</th>\n",
       "      <th>50%</th>\n",
       "      <th>75%</th>\n",
       "      <th>max</th>\n",
       "    </tr>\n",
       "  </thead>\n",
       "  <tbody>\n",
       "    <tr>\n",
       "      <th>MedInc</th>\n",
       "      <td>20640.0</td>\n",
       "      <td>3.870671</td>\n",
       "      <td>1.899822</td>\n",
       "      <td>0.499900</td>\n",
       "      <td>2.563400</td>\n",
       "      <td>3.534800</td>\n",
       "      <td>4.743250</td>\n",
       "      <td>15.000100</td>\n",
       "    </tr>\n",
       "    <tr>\n",
       "      <th>HouseAge</th>\n",
       "      <td>20640.0</td>\n",
       "      <td>28.639486</td>\n",
       "      <td>12.585558</td>\n",
       "      <td>1.000000</td>\n",
       "      <td>18.000000</td>\n",
       "      <td>29.000000</td>\n",
       "      <td>37.000000</td>\n",
       "      <td>52.000000</td>\n",
       "    </tr>\n",
       "    <tr>\n",
       "      <th>AveRooms</th>\n",
       "      <td>20640.0</td>\n",
       "      <td>5.429000</td>\n",
       "      <td>2.474173</td>\n",
       "      <td>0.846154</td>\n",
       "      <td>4.440716</td>\n",
       "      <td>5.229129</td>\n",
       "      <td>6.052381</td>\n",
       "      <td>141.909091</td>\n",
       "    </tr>\n",
       "    <tr>\n",
       "      <th>AveBedrms</th>\n",
       "      <td>20640.0</td>\n",
       "      <td>1.096675</td>\n",
       "      <td>0.473911</td>\n",
       "      <td>0.333333</td>\n",
       "      <td>1.006079</td>\n",
       "      <td>1.048780</td>\n",
       "      <td>1.099526</td>\n",
       "      <td>34.066667</td>\n",
       "    </tr>\n",
       "    <tr>\n",
       "      <th>Population</th>\n",
       "      <td>20640.0</td>\n",
       "      <td>1425.476744</td>\n",
       "      <td>1132.462122</td>\n",
       "      <td>3.000000</td>\n",
       "      <td>787.000000</td>\n",
       "      <td>1166.000000</td>\n",
       "      <td>1725.000000</td>\n",
       "      <td>35682.000000</td>\n",
       "    </tr>\n",
       "    <tr>\n",
       "      <th>AveOccup</th>\n",
       "      <td>20640.0</td>\n",
       "      <td>3.070655</td>\n",
       "      <td>10.386050</td>\n",
       "      <td>0.692308</td>\n",
       "      <td>2.429741</td>\n",
       "      <td>2.818116</td>\n",
       "      <td>3.282261</td>\n",
       "      <td>1243.333333</td>\n",
       "    </tr>\n",
       "    <tr>\n",
       "      <th>Latitude</th>\n",
       "      <td>20640.0</td>\n",
       "      <td>35.631861</td>\n",
       "      <td>2.135952</td>\n",
       "      <td>32.540000</td>\n",
       "      <td>33.930000</td>\n",
       "      <td>34.260000</td>\n",
       "      <td>37.710000</td>\n",
       "      <td>41.950000</td>\n",
       "    </tr>\n",
       "    <tr>\n",
       "      <th>Longitude</th>\n",
       "      <td>20640.0</td>\n",
       "      <td>-119.569704</td>\n",
       "      <td>2.003532</td>\n",
       "      <td>-124.350000</td>\n",
       "      <td>-121.800000</td>\n",
       "      <td>-118.490000</td>\n",
       "      <td>-118.010000</td>\n",
       "      <td>-114.310000</td>\n",
       "    </tr>\n",
       "  </tbody>\n",
       "</table>\n",
       "</div>"
      ],
      "text/plain": [
       "              count         mean          std         min         25%  \\\n",
       "MedInc      20640.0     3.870671     1.899822    0.499900    2.563400   \n",
       "HouseAge    20640.0    28.639486    12.585558    1.000000   18.000000   \n",
       "AveRooms    20640.0     5.429000     2.474173    0.846154    4.440716   \n",
       "AveBedrms   20640.0     1.096675     0.473911    0.333333    1.006079   \n",
       "Population  20640.0  1425.476744  1132.462122    3.000000  787.000000   \n",
       "AveOccup    20640.0     3.070655    10.386050    0.692308    2.429741   \n",
       "Latitude    20640.0    35.631861     2.135952   32.540000   33.930000   \n",
       "Longitude   20640.0  -119.569704     2.003532 -124.350000 -121.800000   \n",
       "\n",
       "                    50%          75%           max  \n",
       "MedInc         3.534800     4.743250     15.000100  \n",
       "HouseAge      29.000000    37.000000     52.000000  \n",
       "AveRooms       5.229129     6.052381    141.909091  \n",
       "AveBedrms      1.048780     1.099526     34.066667  \n",
       "Population  1166.000000  1725.000000  35682.000000  \n",
       "AveOccup       2.818116     3.282261   1243.333333  \n",
       "Latitude      34.260000    37.710000     41.950000  \n",
       "Longitude   -118.490000  -118.010000   -114.310000  "
      ]
     },
     "execution_count": 7,
     "metadata": {},
     "output_type": "execute_result"
    }
   ],
   "source": [
    "# .T transposes the results, transforming rows into columns\n",
    "X.describe().T"
   ]
  },
  {
   "cell_type": "markdown",
   "id": "24e9cc01",
   "metadata": {},
   "source": [
    "Here, we can see that the mean value of MedInc is approximately 3.87 and the mean value of HouseAge is about 28.64, making it 7.4 times larger than MedInc. Other features also have differences in mean and standard deviation - to see that, look at the mean and std values and observe how they are distant from each other. For MedInc std is approximately 1.9, for HouseAge, std is 12.59 and the same applies to the other features.\n",
    "\n",
    "We're using an algorithm based on distance and distance-based algorithms suffer greatly from data that isn't on the same scale, such as this data. The scale of the points may (and in practice, almost always does) distort the real distance between values.\n",
    "\n",
    "To perform Feature Scaling, we will use Scikit-Learn's StandardScaler class later. If we apply the scaling right now (before a train-test split), the calculation would include test data, effectively leaking test data information into the rest of the pipeline. This sort of data leakage is unfortunately commonly skipped, resulting in irreproducible or illusory findings."
   ]
  },
  {
   "cell_type": "markdown",
   "id": "6516dbc7",
   "metadata": {},
   "source": [
    "## Splitting Data into Train and Test Sets"
   ]
  },
  {
   "cell_type": "code",
   "execution_count": 8,
   "id": "5e089fe6",
   "metadata": {},
   "outputs": [],
   "source": [
    "from sklearn.model_selection import train_test_split\n",
    "\n",
    "SEED = 42\n",
    "X_train, X_test, y_train, y_test = train_test_split(X, y, test_size=0.25, random_state=SEED)"
   ]
  },
  {
   "cell_type": "markdown",
   "id": "a18939d7",
   "metadata": {},
   "source": [
    "We can inspect those numbers quickly by printing the lengths of the full dataset and of split data:"
   ]
  },
  {
   "cell_type": "code",
   "execution_count": 9,
   "id": "4799ea22",
   "metadata": {},
   "outputs": [
    {
     "name": "stdout",
     "output_type": "stream",
     "text": [
      "20640\n",
      "15480\n",
      "5160\n"
     ]
    }
   ],
   "source": [
    "print(len(X))       # 20640\n",
    "print(len(X_train)) # 15480\n",
    "print(len(X_test))  # 5160"
   ]
  },
  {
   "cell_type": "code",
   "execution_count": 10,
   "id": "488da687",
   "metadata": {},
   "outputs": [
    {
     "data": {
      "text/plain": [
       "124.41864811996632"
      ]
     },
     "execution_count": 10,
     "metadata": {},
     "output_type": "execute_result"
    }
   ],
   "source": [
    "import numpy as np\n",
    "np.sqrt(len(X_train))"
   ]
  },
  {
   "cell_type": "markdown",
   "id": "97ae7203",
   "metadata": {},
   "source": [
    "## Feature Scaling for KNN Regression\n",
    "\n",
    "By importing StandardScaler, instantiating it, fitting it according to our train data (preventing leakage), and transforming both train and test datasets, we can perform feature scaling:"
   ]
  },
  {
   "cell_type": "code",
   "execution_count": 7,
   "id": "a1eae3e8",
   "metadata": {},
   "outputs": [],
   "source": [
    "from sklearn.preprocessing import StandardScaler\n",
    "\n",
    "scaler = StandardScaler()\n",
    "# Fit only on X_train\n",
    "scaler.fit(X_train)\n",
    "\n",
    "# Scale both X_train and X_test\n",
    "X_train = scaler.fit_transform(X_train)\n",
    "X_test =  scaler.fit_transform(X_test)"
   ]
  },
  {
   "cell_type": "markdown",
   "id": "f803e89c",
   "metadata": {},
   "source": [
    "Now our data is scaled! The scaler maintains only the data points, and not the column names, when applied on a DataFrame. Let's organize the data into a DataFrame again with column names and use describe() to observe the changes in mean and std:"
   ]
  },
  {
   "cell_type": "code",
   "execution_count": 8,
   "id": "2ecbd8e7",
   "metadata": {},
   "outputs": [
    {
     "data": {
      "text/html": [
       "<div>\n",
       "<style scoped>\n",
       "    .dataframe tbody tr th:only-of-type {\n",
       "        vertical-align: middle;\n",
       "    }\n",
       "\n",
       "    .dataframe tbody tr th {\n",
       "        vertical-align: top;\n",
       "    }\n",
       "\n",
       "    .dataframe thead th {\n",
       "        text-align: right;\n",
       "    }\n",
       "</style>\n",
       "<table border=\"1\" class=\"dataframe\">\n",
       "  <thead>\n",
       "    <tr style=\"text-align: right;\">\n",
       "      <th></th>\n",
       "      <th>count</th>\n",
       "      <th>mean</th>\n",
       "      <th>std</th>\n",
       "      <th>min</th>\n",
       "      <th>25%</th>\n",
       "      <th>50%</th>\n",
       "      <th>75%</th>\n",
       "      <th>max</th>\n",
       "    </tr>\n",
       "  </thead>\n",
       "  <tbody>\n",
       "    <tr>\n",
       "      <th>MedInc</th>\n",
       "      <td>15480.0</td>\n",
       "      <td>2.172968e-16</td>\n",
       "      <td>1.000032</td>\n",
       "      <td>-1.774632</td>\n",
       "      <td>-0.688854</td>\n",
       "      <td>-0.175663</td>\n",
       "      <td>0.464450</td>\n",
       "      <td>5.842113</td>\n",
       "    </tr>\n",
       "    <tr>\n",
       "      <th>HouseAge</th>\n",
       "      <td>15480.0</td>\n",
       "      <td>-1.254954e-16</td>\n",
       "      <td>1.000032</td>\n",
       "      <td>-2.188261</td>\n",
       "      <td>-0.840224</td>\n",
       "      <td>0.032036</td>\n",
       "      <td>0.666407</td>\n",
       "      <td>1.855852</td>\n",
       "    </tr>\n",
       "    <tr>\n",
       "      <th>AveRooms</th>\n",
       "      <td>15480.0</td>\n",
       "      <td>-1.148163e-16</td>\n",
       "      <td>1.000032</td>\n",
       "      <td>-1.877586</td>\n",
       "      <td>-0.407008</td>\n",
       "      <td>-0.083940</td>\n",
       "      <td>0.257082</td>\n",
       "      <td>56.357392</td>\n",
       "    </tr>\n",
       "    <tr>\n",
       "      <th>AveBedrms</th>\n",
       "      <td>15480.0</td>\n",
       "      <td>1.239408e-16</td>\n",
       "      <td>1.000032</td>\n",
       "      <td>-1.740123</td>\n",
       "      <td>-0.205765</td>\n",
       "      <td>-0.108332</td>\n",
       "      <td>0.007435</td>\n",
       "      <td>55.925392</td>\n",
       "    </tr>\n",
       "    <tr>\n",
       "      <th>Population</th>\n",
       "      <td>15480.0</td>\n",
       "      <td>-7.874838e-17</td>\n",
       "      <td>1.000032</td>\n",
       "      <td>-1.246395</td>\n",
       "      <td>-0.558886</td>\n",
       "      <td>-0.227928</td>\n",
       "      <td>0.262056</td>\n",
       "      <td>29.971725</td>\n",
       "    </tr>\n",
       "    <tr>\n",
       "      <th>AveOccup</th>\n",
       "      <td>15480.0</td>\n",
       "      <td>2.672550e-17</td>\n",
       "      <td>1.000032</td>\n",
       "      <td>-0.201946</td>\n",
       "      <td>-0.056581</td>\n",
       "      <td>-0.024172</td>\n",
       "      <td>0.014501</td>\n",
       "      <td>103.737365</td>\n",
       "    </tr>\n",
       "    <tr>\n",
       "      <th>Latitude</th>\n",
       "      <td>15480.0</td>\n",
       "      <td>8.022581e-16</td>\n",
       "      <td>1.000032</td>\n",
       "      <td>-1.451215</td>\n",
       "      <td>-0.799820</td>\n",
       "      <td>-0.645172</td>\n",
       "      <td>0.971601</td>\n",
       "      <td>2.953905</td>\n",
       "    </tr>\n",
       "    <tr>\n",
       "      <th>Longitude</th>\n",
       "      <td>15480.0</td>\n",
       "      <td>2.169625e-15</td>\n",
       "      <td>1.000032</td>\n",
       "      <td>-2.380303</td>\n",
       "      <td>-1.106817</td>\n",
       "      <td>0.536231</td>\n",
       "      <td>0.785934</td>\n",
       "      <td>2.633738</td>\n",
       "    </tr>\n",
       "  </tbody>\n",
       "</table>\n",
       "</div>"
      ],
      "text/plain": [
       "              count          mean       std       min       25%       50%  \\\n",
       "MedInc      15480.0  2.172968e-16  1.000032 -1.774632 -0.688854 -0.175663   \n",
       "HouseAge    15480.0 -1.254954e-16  1.000032 -2.188261 -0.840224  0.032036   \n",
       "AveRooms    15480.0 -1.148163e-16  1.000032 -1.877586 -0.407008 -0.083940   \n",
       "AveBedrms   15480.0  1.239408e-16  1.000032 -1.740123 -0.205765 -0.108332   \n",
       "Population  15480.0 -7.874838e-17  1.000032 -1.246395 -0.558886 -0.227928   \n",
       "AveOccup    15480.0  2.672550e-17  1.000032 -0.201946 -0.056581 -0.024172   \n",
       "Latitude    15480.0  8.022581e-16  1.000032 -1.451215 -0.799820 -0.645172   \n",
       "Longitude   15480.0  2.169625e-15  1.000032 -2.380303 -1.106817  0.536231   \n",
       "\n",
       "                 75%         max  \n",
       "MedInc      0.464450    5.842113  \n",
       "HouseAge    0.666407    1.855852  \n",
       "AveRooms    0.257082   56.357392  \n",
       "AveBedrms   0.007435   55.925392  \n",
       "Population  0.262056   29.971725  \n",
       "AveOccup    0.014501  103.737365  \n",
       "Latitude    0.971601    2.953905  \n",
       "Longitude   0.785934    2.633738  "
      ]
     },
     "execution_count": 8,
     "metadata": {},
     "output_type": "execute_result"
    }
   ],
   "source": [
    "import pandas as pd\n",
    "col_names=['MedInc', 'HouseAge', 'AveRooms', 'AveBedrms', 'Population', 'AveOccup', 'Latitude', 'Longitude']\n",
    "scaled_df = pd.DataFrame(X_train, columns=col_names)\n",
    "scaled_df.describe().T"
   ]
  },
  {
   "cell_type": "code",
   "execution_count": 9,
   "id": "54ff8a68",
   "metadata": {},
   "outputs": [
    {
     "data": {
      "text/html": [
       "<style>#sk-container-id-1 {color: black;background-color: white;}#sk-container-id-1 pre{padding: 0;}#sk-container-id-1 div.sk-toggleable {background-color: white;}#sk-container-id-1 label.sk-toggleable__label {cursor: pointer;display: block;width: 100%;margin-bottom: 0;padding: 0.3em;box-sizing: border-box;text-align: center;}#sk-container-id-1 label.sk-toggleable__label-arrow:before {content: \"▸\";float: left;margin-right: 0.25em;color: #696969;}#sk-container-id-1 label.sk-toggleable__label-arrow:hover:before {color: black;}#sk-container-id-1 div.sk-estimator:hover label.sk-toggleable__label-arrow:before {color: black;}#sk-container-id-1 div.sk-toggleable__content {max-height: 0;max-width: 0;overflow: hidden;text-align: left;background-color: #f0f8ff;}#sk-container-id-1 div.sk-toggleable__content pre {margin: 0.2em;color: black;border-radius: 0.25em;background-color: #f0f8ff;}#sk-container-id-1 input.sk-toggleable__control:checked~div.sk-toggleable__content {max-height: 200px;max-width: 100%;overflow: auto;}#sk-container-id-1 input.sk-toggleable__control:checked~label.sk-toggleable__label-arrow:before {content: \"▾\";}#sk-container-id-1 div.sk-estimator input.sk-toggleable__control:checked~label.sk-toggleable__label {background-color: #d4ebff;}#sk-container-id-1 div.sk-label input.sk-toggleable__control:checked~label.sk-toggleable__label {background-color: #d4ebff;}#sk-container-id-1 input.sk-hidden--visually {border: 0;clip: rect(1px 1px 1px 1px);clip: rect(1px, 1px, 1px, 1px);height: 1px;margin: -1px;overflow: hidden;padding: 0;position: absolute;width: 1px;}#sk-container-id-1 div.sk-estimator {font-family: monospace;background-color: #f0f8ff;border: 1px dotted black;border-radius: 0.25em;box-sizing: border-box;margin-bottom: 0.5em;}#sk-container-id-1 div.sk-estimator:hover {background-color: #d4ebff;}#sk-container-id-1 div.sk-parallel-item::after {content: \"\";width: 100%;border-bottom: 1px solid gray;flex-grow: 1;}#sk-container-id-1 div.sk-label:hover label.sk-toggleable__label {background-color: #d4ebff;}#sk-container-id-1 div.sk-serial::before {content: \"\";position: absolute;border-left: 1px solid gray;box-sizing: border-box;top: 0;bottom: 0;left: 50%;z-index: 0;}#sk-container-id-1 div.sk-serial {display: flex;flex-direction: column;align-items: center;background-color: white;padding-right: 0.2em;padding-left: 0.2em;position: relative;}#sk-container-id-1 div.sk-item {position: relative;z-index: 1;}#sk-container-id-1 div.sk-parallel {display: flex;align-items: stretch;justify-content: center;background-color: white;position: relative;}#sk-container-id-1 div.sk-item::before, #sk-container-id-1 div.sk-parallel-item::before {content: \"\";position: absolute;border-left: 1px solid gray;box-sizing: border-box;top: 0;bottom: 0;left: 50%;z-index: -1;}#sk-container-id-1 div.sk-parallel-item {display: flex;flex-direction: column;z-index: 1;position: relative;background-color: white;}#sk-container-id-1 div.sk-parallel-item:first-child::after {align-self: flex-end;width: 50%;}#sk-container-id-1 div.sk-parallel-item:last-child::after {align-self: flex-start;width: 50%;}#sk-container-id-1 div.sk-parallel-item:only-child::after {width: 0;}#sk-container-id-1 div.sk-dashed-wrapped {border: 1px dashed gray;margin: 0 0.4em 0.5em 0.4em;box-sizing: border-box;padding-bottom: 0.4em;background-color: white;}#sk-container-id-1 div.sk-label label {font-family: monospace;font-weight: bold;display: inline-block;line-height: 1.2em;}#sk-container-id-1 div.sk-label-container {text-align: center;}#sk-container-id-1 div.sk-container {/* jupyter's `normalize.less` sets `[hidden] { display: none; }` but bootstrap.min.css set `[hidden] { display: none !important; }` so we also need the `!important` here to be able to override the default hidden behavior on the sphinx rendered scikit-learn.org. See: https://github.com/scikit-learn/scikit-learn/issues/21755 */display: inline-block !important;position: relative;}#sk-container-id-1 div.sk-text-repr-fallback {display: none;}</style><div id=\"sk-container-id-1\" class=\"sk-top-container\"><div class=\"sk-text-repr-fallback\"><pre>KNeighborsRegressor()</pre><b>In a Jupyter environment, please rerun this cell to show the HTML representation or trust the notebook. <br />On GitHub, the HTML representation is unable to render, please try loading this page with nbviewer.org.</b></div><div class=\"sk-container\" hidden><div class=\"sk-item\"><div class=\"sk-estimator sk-toggleable\"><input class=\"sk-toggleable__control sk-hidden--visually\" id=\"sk-estimator-id-1\" type=\"checkbox\" checked><label for=\"sk-estimator-id-1\" class=\"sk-toggleable__label sk-toggleable__label-arrow\">KNeighborsRegressor</label><div class=\"sk-toggleable__content\"><pre>KNeighborsRegressor()</pre></div></div></div></div></div>"
      ],
      "text/plain": [
       "KNeighborsRegressor()"
      ]
     },
     "execution_count": 9,
     "metadata": {},
     "output_type": "execute_result"
    }
   ],
   "source": [
    "## Building the model\n",
    "\n",
    "from sklearn.neighbors import KNeighborsRegressor\n",
    "\n",
    "model = KNeighborsRegressor(n_neighbors=5)\n",
    "model"
   ]
  },
  {
   "cell_type": "markdown",
   "id": "01ec62bc",
   "metadata": {},
   "source": [
    "## Training and Predicting KNN Regression"
   ]
  },
  {
   "cell_type": "code",
   "execution_count": 10,
   "id": "46819878",
   "metadata": {},
   "outputs": [
    {
     "data": {
      "text/html": [
       "<style>#sk-container-id-2 {color: black;background-color: white;}#sk-container-id-2 pre{padding: 0;}#sk-container-id-2 div.sk-toggleable {background-color: white;}#sk-container-id-2 label.sk-toggleable__label {cursor: pointer;display: block;width: 100%;margin-bottom: 0;padding: 0.3em;box-sizing: border-box;text-align: center;}#sk-container-id-2 label.sk-toggleable__label-arrow:before {content: \"▸\";float: left;margin-right: 0.25em;color: #696969;}#sk-container-id-2 label.sk-toggleable__label-arrow:hover:before {color: black;}#sk-container-id-2 div.sk-estimator:hover label.sk-toggleable__label-arrow:before {color: black;}#sk-container-id-2 div.sk-toggleable__content {max-height: 0;max-width: 0;overflow: hidden;text-align: left;background-color: #f0f8ff;}#sk-container-id-2 div.sk-toggleable__content pre {margin: 0.2em;color: black;border-radius: 0.25em;background-color: #f0f8ff;}#sk-container-id-2 input.sk-toggleable__control:checked~div.sk-toggleable__content {max-height: 200px;max-width: 100%;overflow: auto;}#sk-container-id-2 input.sk-toggleable__control:checked~label.sk-toggleable__label-arrow:before {content: \"▾\";}#sk-container-id-2 div.sk-estimator input.sk-toggleable__control:checked~label.sk-toggleable__label {background-color: #d4ebff;}#sk-container-id-2 div.sk-label input.sk-toggleable__control:checked~label.sk-toggleable__label {background-color: #d4ebff;}#sk-container-id-2 input.sk-hidden--visually {border: 0;clip: rect(1px 1px 1px 1px);clip: rect(1px, 1px, 1px, 1px);height: 1px;margin: -1px;overflow: hidden;padding: 0;position: absolute;width: 1px;}#sk-container-id-2 div.sk-estimator {font-family: monospace;background-color: #f0f8ff;border: 1px dotted black;border-radius: 0.25em;box-sizing: border-box;margin-bottom: 0.5em;}#sk-container-id-2 div.sk-estimator:hover {background-color: #d4ebff;}#sk-container-id-2 div.sk-parallel-item::after {content: \"\";width: 100%;border-bottom: 1px solid gray;flex-grow: 1;}#sk-container-id-2 div.sk-label:hover label.sk-toggleable__label {background-color: #d4ebff;}#sk-container-id-2 div.sk-serial::before {content: \"\";position: absolute;border-left: 1px solid gray;box-sizing: border-box;top: 0;bottom: 0;left: 50%;z-index: 0;}#sk-container-id-2 div.sk-serial {display: flex;flex-direction: column;align-items: center;background-color: white;padding-right: 0.2em;padding-left: 0.2em;position: relative;}#sk-container-id-2 div.sk-item {position: relative;z-index: 1;}#sk-container-id-2 div.sk-parallel {display: flex;align-items: stretch;justify-content: center;background-color: white;position: relative;}#sk-container-id-2 div.sk-item::before, #sk-container-id-2 div.sk-parallel-item::before {content: \"\";position: absolute;border-left: 1px solid gray;box-sizing: border-box;top: 0;bottom: 0;left: 50%;z-index: -1;}#sk-container-id-2 div.sk-parallel-item {display: flex;flex-direction: column;z-index: 1;position: relative;background-color: white;}#sk-container-id-2 div.sk-parallel-item:first-child::after {align-self: flex-end;width: 50%;}#sk-container-id-2 div.sk-parallel-item:last-child::after {align-self: flex-start;width: 50%;}#sk-container-id-2 div.sk-parallel-item:only-child::after {width: 0;}#sk-container-id-2 div.sk-dashed-wrapped {border: 1px dashed gray;margin: 0 0.4em 0.5em 0.4em;box-sizing: border-box;padding-bottom: 0.4em;background-color: white;}#sk-container-id-2 div.sk-label label {font-family: monospace;font-weight: bold;display: inline-block;line-height: 1.2em;}#sk-container-id-2 div.sk-label-container {text-align: center;}#sk-container-id-2 div.sk-container {/* jupyter's `normalize.less` sets `[hidden] { display: none; }` but bootstrap.min.css set `[hidden] { display: none !important; }` so we also need the `!important` here to be able to override the default hidden behavior on the sphinx rendered scikit-learn.org. See: https://github.com/scikit-learn/scikit-learn/issues/21755 */display: inline-block !important;position: relative;}#sk-container-id-2 div.sk-text-repr-fallback {display: none;}</style><div id=\"sk-container-id-2\" class=\"sk-top-container\"><div class=\"sk-text-repr-fallback\"><pre>KNeighborsRegressor()</pre><b>In a Jupyter environment, please rerun this cell to show the HTML representation or trust the notebook. <br />On GitHub, the HTML representation is unable to render, please try loading this page with nbviewer.org.</b></div><div class=\"sk-container\" hidden><div class=\"sk-item\"><div class=\"sk-estimator sk-toggleable\"><input class=\"sk-toggleable__control sk-hidden--visually\" id=\"sk-estimator-id-2\" type=\"checkbox\" checked><label for=\"sk-estimator-id-2\" class=\"sk-toggleable__label sk-toggleable__label-arrow\">KNeighborsRegressor</label><div class=\"sk-toggleable__content\"><pre>KNeighborsRegressor()</pre></div></div></div></div></div>"
      ],
      "text/plain": [
       "KNeighborsRegressor()"
      ]
     },
     "execution_count": 10,
     "metadata": {},
     "output_type": "execute_result"
    }
   ],
   "source": [
    "model.fit(X_train, y_train)"
   ]
  },
  {
   "cell_type": "markdown",
   "id": "27ad1006",
   "metadata": {},
   "source": [
    "## Predciting Values"
   ]
  },
  {
   "cell_type": "code",
   "execution_count": 11,
   "id": "2e8914dd",
   "metadata": {},
   "outputs": [
    {
     "data": {
      "text/plain": [
       "array([0.5172  , 0.7646  , 5.000008, 2.8078  , 2.939   ])"
      ]
     },
     "execution_count": 11,
     "metadata": {},
     "output_type": "execute_result"
    }
   ],
   "source": [
    "y_pred = model.predict(X_test)\n",
    "y_pred[:5]"
   ]
  },
  {
   "cell_type": "markdown",
   "id": "e0f5141b",
   "metadata": {},
   "source": [
    "## Evaluating the Algorithm for KNN Regression"
   ]
  },
  {
   "cell_type": "code",
   "execution_count": 12,
   "id": "92c17926",
   "metadata": {},
   "outputs": [
    {
     "name": "stdout",
     "output_type": "stream",
     "text": [
      "mae: 0.4287019976744185\n",
      "mse: 0.39968317568845113\n",
      "rmse: 0.6322050108061871\n"
     ]
    }
   ],
   "source": [
    "from sklearn.metrics import mean_absolute_error, mean_squared_error\n",
    "\n",
    "mae = mean_absolute_error(y_test, y_pred)\n",
    "mse = mean_squared_error(y_test, y_pred)\n",
    "rmse = mean_squared_error(y_test, y_pred, squared=False)\n",
    "\n",
    "print(f'mae: {mae}')\n",
    "print(f'mse: {mse}')\n",
    "print(f'rmse: {rmse}')"
   ]
  },
  {
   "cell_type": "markdown",
   "id": "ce25287a",
   "metadata": {},
   "source": [
    "## The R2 can be calculated directly with the score() method:"
   ]
  },
  {
   "cell_type": "code",
   "execution_count": 13,
   "id": "5dd1ef73",
   "metadata": {},
   "outputs": [
    {
     "data": {
      "text/plain": [
       "0.6979461101654933"
      ]
     },
     "execution_count": 13,
     "metadata": {},
     "output_type": "execute_result"
    }
   ],
   "source": [
    "model.score(X_test, y_test)"
   ]
  },
  {
   "cell_type": "markdown",
   "id": "366bdb28",
   "metadata": {},
   "source": [
    "The results show that our KNN algorithm overall error and mean error are around 0.44, and 0.43. Also, the RMSE shows that we can go above or below the actual value of data by adding 0.65 or subtracting 0.65. How good is that?\n",
    "\n",
    "Let's check what the prices look like"
   ]
  },
  {
   "cell_type": "code",
   "execution_count": 15,
   "id": "3d0b3df3",
   "metadata": {},
   "outputs": [
    {
     "data": {
      "text/html": [
       "<style>#sk-container-id-3 {color: black;background-color: white;}#sk-container-id-3 pre{padding: 0;}#sk-container-id-3 div.sk-toggleable {background-color: white;}#sk-container-id-3 label.sk-toggleable__label {cursor: pointer;display: block;width: 100%;margin-bottom: 0;padding: 0.3em;box-sizing: border-box;text-align: center;}#sk-container-id-3 label.sk-toggleable__label-arrow:before {content: \"▸\";float: left;margin-right: 0.25em;color: #696969;}#sk-container-id-3 label.sk-toggleable__label-arrow:hover:before {color: black;}#sk-container-id-3 div.sk-estimator:hover label.sk-toggleable__label-arrow:before {color: black;}#sk-container-id-3 div.sk-toggleable__content {max-height: 0;max-width: 0;overflow: hidden;text-align: left;background-color: #f0f8ff;}#sk-container-id-3 div.sk-toggleable__content pre {margin: 0.2em;color: black;border-radius: 0.25em;background-color: #f0f8ff;}#sk-container-id-3 input.sk-toggleable__control:checked~div.sk-toggleable__content {max-height: 200px;max-width: 100%;overflow: auto;}#sk-container-id-3 input.sk-toggleable__control:checked~label.sk-toggleable__label-arrow:before {content: \"▾\";}#sk-container-id-3 div.sk-estimator input.sk-toggleable__control:checked~label.sk-toggleable__label {background-color: #d4ebff;}#sk-container-id-3 div.sk-label input.sk-toggleable__control:checked~label.sk-toggleable__label {background-color: #d4ebff;}#sk-container-id-3 input.sk-hidden--visually {border: 0;clip: rect(1px 1px 1px 1px);clip: rect(1px, 1px, 1px, 1px);height: 1px;margin: -1px;overflow: hidden;padding: 0;position: absolute;width: 1px;}#sk-container-id-3 div.sk-estimator {font-family: monospace;background-color: #f0f8ff;border: 1px dotted black;border-radius: 0.25em;box-sizing: border-box;margin-bottom: 0.5em;}#sk-container-id-3 div.sk-estimator:hover {background-color: #d4ebff;}#sk-container-id-3 div.sk-parallel-item::after {content: \"\";width: 100%;border-bottom: 1px solid gray;flex-grow: 1;}#sk-container-id-3 div.sk-label:hover label.sk-toggleable__label {background-color: #d4ebff;}#sk-container-id-3 div.sk-serial::before {content: \"\";position: absolute;border-left: 1px solid gray;box-sizing: border-box;top: 0;bottom: 0;left: 50%;z-index: 0;}#sk-container-id-3 div.sk-serial {display: flex;flex-direction: column;align-items: center;background-color: white;padding-right: 0.2em;padding-left: 0.2em;position: relative;}#sk-container-id-3 div.sk-item {position: relative;z-index: 1;}#sk-container-id-3 div.sk-parallel {display: flex;align-items: stretch;justify-content: center;background-color: white;position: relative;}#sk-container-id-3 div.sk-item::before, #sk-container-id-3 div.sk-parallel-item::before {content: \"\";position: absolute;border-left: 1px solid gray;box-sizing: border-box;top: 0;bottom: 0;left: 50%;z-index: -1;}#sk-container-id-3 div.sk-parallel-item {display: flex;flex-direction: column;z-index: 1;position: relative;background-color: white;}#sk-container-id-3 div.sk-parallel-item:first-child::after {align-self: flex-end;width: 50%;}#sk-container-id-3 div.sk-parallel-item:last-child::after {align-self: flex-start;width: 50%;}#sk-container-id-3 div.sk-parallel-item:only-child::after {width: 0;}#sk-container-id-3 div.sk-dashed-wrapped {border: 1px dashed gray;margin: 0 0.4em 0.5em 0.4em;box-sizing: border-box;padding-bottom: 0.4em;background-color: white;}#sk-container-id-3 div.sk-label label {font-family: monospace;font-weight: bold;display: inline-block;line-height: 1.2em;}#sk-container-id-3 div.sk-label-container {text-align: center;}#sk-container-id-3 div.sk-container {/* jupyter's `normalize.less` sets `[hidden] { display: none; }` but bootstrap.min.css set `[hidden] { display: none !important; }` so we also need the `!important` here to be able to override the default hidden behavior on the sphinx rendered scikit-learn.org. See: https://github.com/scikit-learn/scikit-learn/issues/21755 */display: inline-block !important;position: relative;}#sk-container-id-3 div.sk-text-repr-fallback {display: none;}</style><div id=\"sk-container-id-3\" class=\"sk-top-container\"><div class=\"sk-text-repr-fallback\"><pre>KNeighborsRegressor(n_neighbors=2)</pre><b>In a Jupyter environment, please rerun this cell to show the HTML representation or trust the notebook. <br />On GitHub, the HTML representation is unable to render, please try loading this page with nbviewer.org.</b></div><div class=\"sk-container\" hidden><div class=\"sk-item\"><div class=\"sk-estimator sk-toggleable\"><input class=\"sk-toggleable__control sk-hidden--visually\" id=\"sk-estimator-id-3\" type=\"checkbox\" checked><label for=\"sk-estimator-id-3\" class=\"sk-toggleable__label sk-toggleable__label-arrow\">KNeighborsRegressor</label><div class=\"sk-toggleable__content\"><pre>KNeighborsRegressor(n_neighbors=2)</pre></div></div></div></div></div>"
      ],
      "text/plain": [
       "KNeighborsRegressor(n_neighbors=2)"
      ]
     },
     "execution_count": 15,
     "metadata": {},
     "output_type": "execute_result"
    }
   ],
   "source": [
    "## Building the model again with k=2\n",
    "\n",
    "from sklearn.neighbors import KNeighborsRegressor\n",
    "\n",
    "model = KNeighborsRegressor(n_neighbors=2)\n",
    "model"
   ]
  },
  {
   "cell_type": "code",
   "execution_count": 16,
   "id": "d4168f61",
   "metadata": {},
   "outputs": [
    {
     "ename": "NotFittedError",
     "evalue": "This KNeighborsRegressor instance is not fitted yet. Call 'fit' with appropriate arguments before using this estimator.",
     "output_type": "error",
     "traceback": [
      "\u001b[1;31m---------------------------------------------------------------------------\u001b[0m",
      "\u001b[1;31mNotFittedError\u001b[0m                            Traceback (most recent call last)",
      "Input \u001b[1;32mIn [16]\u001b[0m, in \u001b[0;36m<cell line: 1>\u001b[1;34m()\u001b[0m\n\u001b[1;32m----> 1\u001b[0m y_pred \u001b[38;5;241m=\u001b[39m \u001b[43mmodel\u001b[49m\u001b[38;5;241;43m.\u001b[39;49m\u001b[43mpredict\u001b[49m\u001b[43m(\u001b[49m\u001b[43mX_test\u001b[49m\u001b[43m)\u001b[49m\n\u001b[0;32m      2\u001b[0m y_pred\n",
      "File \u001b[1;32m~\\anaconda3\\lib\\site-packages\\sklearn\\neighbors\\_regression.py:229\u001b[0m, in \u001b[0;36mKNeighborsRegressor.predict\u001b[1;34m(self, X)\u001b[0m\n\u001b[0;32m    213\u001b[0m \u001b[38;5;124;03m\"\"\"Predict the target for the provided data.\u001b[39;00m\n\u001b[0;32m    214\u001b[0m \n\u001b[0;32m    215\u001b[0m \u001b[38;5;124;03mParameters\u001b[39;00m\n\u001b[1;32m   (...)\u001b[0m\n\u001b[0;32m    224\u001b[0m \u001b[38;5;124;03m    Target values.\u001b[39;00m\n\u001b[0;32m    225\u001b[0m \u001b[38;5;124;03m\"\"\"\u001b[39;00m\n\u001b[0;32m    226\u001b[0m \u001b[38;5;28;01mif\u001b[39;00m \u001b[38;5;28mself\u001b[39m\u001b[38;5;241m.\u001b[39mweights \u001b[38;5;241m==\u001b[39m \u001b[38;5;124m\"\u001b[39m\u001b[38;5;124muniform\u001b[39m\u001b[38;5;124m\"\u001b[39m:\n\u001b[0;32m    227\u001b[0m     \u001b[38;5;66;03m# In that case, we do not need the distances to perform\u001b[39;00m\n\u001b[0;32m    228\u001b[0m     \u001b[38;5;66;03m# the weighting so we do not compute them.\u001b[39;00m\n\u001b[1;32m--> 229\u001b[0m     neigh_ind \u001b[38;5;241m=\u001b[39m \u001b[38;5;28;43mself\u001b[39;49m\u001b[38;5;241;43m.\u001b[39;49m\u001b[43mkneighbors\u001b[49m\u001b[43m(\u001b[49m\u001b[43mX\u001b[49m\u001b[43m,\u001b[49m\u001b[43m \u001b[49m\u001b[43mreturn_distance\u001b[49m\u001b[38;5;241;43m=\u001b[39;49m\u001b[38;5;28;43;01mFalse\u001b[39;49;00m\u001b[43m)\u001b[49m\n\u001b[0;32m    230\u001b[0m     neigh_dist \u001b[38;5;241m=\u001b[39m \u001b[38;5;28;01mNone\u001b[39;00m\n\u001b[0;32m    231\u001b[0m \u001b[38;5;28;01melse\u001b[39;00m:\n",
      "File \u001b[1;32m~\\anaconda3\\lib\\site-packages\\sklearn\\neighbors\\_base.py:723\u001b[0m, in \u001b[0;36mKNeighborsMixin.kneighbors\u001b[1;34m(self, X, n_neighbors, return_distance)\u001b[0m\n\u001b[0;32m    670\u001b[0m \u001b[38;5;28;01mdef\u001b[39;00m \u001b[38;5;21mkneighbors\u001b[39m(\u001b[38;5;28mself\u001b[39m, X\u001b[38;5;241m=\u001b[39m\u001b[38;5;28;01mNone\u001b[39;00m, n_neighbors\u001b[38;5;241m=\u001b[39m\u001b[38;5;28;01mNone\u001b[39;00m, return_distance\u001b[38;5;241m=\u001b[39m\u001b[38;5;28;01mTrue\u001b[39;00m):\n\u001b[0;32m    671\u001b[0m     \u001b[38;5;124;03m\"\"\"Find the K-neighbors of a point.\u001b[39;00m\n\u001b[0;32m    672\u001b[0m \n\u001b[0;32m    673\u001b[0m \u001b[38;5;124;03m    Returns indices of and distances to the neighbors of each point.\u001b[39;00m\n\u001b[1;32m   (...)\u001b[0m\n\u001b[0;32m    721\u001b[0m \u001b[38;5;124;03m           [2]]...)\u001b[39;00m\n\u001b[0;32m    722\u001b[0m \u001b[38;5;124;03m    \"\"\"\u001b[39;00m\n\u001b[1;32m--> 723\u001b[0m     \u001b[43mcheck_is_fitted\u001b[49m\u001b[43m(\u001b[49m\u001b[38;5;28;43mself\u001b[39;49m\u001b[43m)\u001b[49m\n\u001b[0;32m    725\u001b[0m     \u001b[38;5;28;01mif\u001b[39;00m n_neighbors \u001b[38;5;129;01mis\u001b[39;00m \u001b[38;5;28;01mNone\u001b[39;00m:\n\u001b[0;32m    726\u001b[0m         n_neighbors \u001b[38;5;241m=\u001b[39m \u001b[38;5;28mself\u001b[39m\u001b[38;5;241m.\u001b[39mn_neighbors\n",
      "File \u001b[1;32m~\\anaconda3\\lib\\site-packages\\sklearn\\utils\\validation.py:1345\u001b[0m, in \u001b[0;36mcheck_is_fitted\u001b[1;34m(estimator, attributes, msg, all_or_any)\u001b[0m\n\u001b[0;32m   1340\u001b[0m     fitted \u001b[38;5;241m=\u001b[39m [\n\u001b[0;32m   1341\u001b[0m         v \u001b[38;5;28;01mfor\u001b[39;00m v \u001b[38;5;129;01min\u001b[39;00m \u001b[38;5;28mvars\u001b[39m(estimator) \u001b[38;5;28;01mif\u001b[39;00m v\u001b[38;5;241m.\u001b[39mendswith(\u001b[38;5;124m\"\u001b[39m\u001b[38;5;124m_\u001b[39m\u001b[38;5;124m\"\u001b[39m) \u001b[38;5;129;01mand\u001b[39;00m \u001b[38;5;129;01mnot\u001b[39;00m v\u001b[38;5;241m.\u001b[39mstartswith(\u001b[38;5;124m\"\u001b[39m\u001b[38;5;124m__\u001b[39m\u001b[38;5;124m\"\u001b[39m)\n\u001b[0;32m   1342\u001b[0m     ]\n\u001b[0;32m   1344\u001b[0m \u001b[38;5;28;01mif\u001b[39;00m \u001b[38;5;129;01mnot\u001b[39;00m fitted:\n\u001b[1;32m-> 1345\u001b[0m     \u001b[38;5;28;01mraise\u001b[39;00m NotFittedError(msg \u001b[38;5;241m%\u001b[39m {\u001b[38;5;124m\"\u001b[39m\u001b[38;5;124mname\u001b[39m\u001b[38;5;124m\"\u001b[39m: \u001b[38;5;28mtype\u001b[39m(estimator)\u001b[38;5;241m.\u001b[39m\u001b[38;5;18m__name__\u001b[39m})\n",
      "\u001b[1;31mNotFittedError\u001b[0m: This KNeighborsRegressor instance is not fitted yet. Call 'fit' with appropriate arguments before using this estimator."
     ]
    }
   ],
   "source": [
    "y_pred = model.predict(X_test)\n",
    "y_pred"
   ]
  },
  {
   "attachments": {
    "image.png": {
     "image/png": "[encoded data removed]"
    }
   },
   "cell_type": "markdown",
   "id": "4a00b495",
   "metadata": {},
   "source": [
    "The mean is 2.06 and the standard deviation from the mean is 1.15 so our score of ~0.44 isn't really stellar, but isn't too bad.\n",
    "\n",
    "With the R2, the closest to 1 we get (or 100), the better. The R2 tells how much of the changes in data, or data variance are being understood or explained by KNN.\n",
    "\n",
    "![image.png](attachment:image.png)"
   ]
  },
  {
   "cell_type": "markdown",
   "id": "76d6c7e0",
   "metadata": {},
   "source": [
    "With a value of 0.67, we can see that our model explains 67% of the data variance. It is already more than 50%, which is ok, but not very good. Is there any way we could do better?\n",
    "\n",
    "We have used a predetermined K with a value of 5, so, we are using 5 neighbors to predict our targets which is not necessarily the best number. To understand which would be an ideal number of Ks, we can analyze our algorithm errors and choose the K that minimizes the loss."
   ]
  },
  {
   "cell_type": "markdown",
   "id": "619ec9ef",
   "metadata": {},
   "source": [
    "## Finding the Best K for KNN Regression\n",
    "\n",
    "Ideally, you would see which metric fits more into your context - but it is usually interesting to test all metrics. Whenever you can test all of them, do it. Here, we will show how to choose the best K using only the mean absolute error, but you can change it to any other metric and compare the results.\n",
    "\n",
    "To do this, we will create a for loop and run models that have from 1 to X neighbors. At each interaction, we will calculate the MAE and plot the number of Ks along with the MAE result:"
   ]
  },
  {
   "cell_type": "code",
   "execution_count": 20,
   "id": "f510f9c8",
   "metadata": {},
   "outputs": [
    {
     "name": "stdout",
     "output_type": "stream",
     "text": [
      "40\n"
     ]
    }
   ],
   "source": [
    "from sklearn.metrics import mean_absolute_error\n",
    "error = []\n",
    "\n",
    "# Calculating MAE error for K values between 1 and 39\n",
    "for i in range(1, 41):\n",
    "    knn = KNeighborsRegressor(n_neighbors=i)\n",
    "    knn.fit(X_train, y_train)\n",
    "    pred_i = knn.predict(X_test)\n",
    "    mae = mean_absolute_error(y_test, pred_i)\n",
    "    error.append(mae)\n",
    "    \n",
    "print(len(error))"
   ]
  },
  {
   "cell_type": "markdown",
   "id": "8b269344",
   "metadata": {},
   "source": [
    "## Now, let's plot the errors:"
   ]
  },
  {
   "cell_type": "code",
   "execution_count": 23,
   "id": "1da940b4",
   "metadata": {},
   "outputs": [
    {
     "data": {
      "text/plain": [
       "Text(0, 0.5, 'Mean Absolute Error')"
      ]
     },
     "execution_count": 23,
     "metadata": {},
     "output_type": "execute_result"
    },
    {
     "data": {
      "image/png": "[encoded data removed]",
      "text/plain": [
       "<Figure size 864x432 with 1 Axes>"
      ]
     },
     "metadata": {
      "needs_background": "light"
     },
     "output_type": "display_data"
    }
   ],
   "source": [
    "import matplotlib.pyplot as plt \n",
    "\n",
    "plt.figure(figsize=(12, 6))\n",
    "plt.plot(range(1, 41), error, color='red', \n",
    "         linestyle='dashed', marker='o',\n",
    "         markerfacecolor='blue', markersize=10)\n",
    "         \n",
    "plt.title('K Value MAE')\n",
    "plt.xlabel('K Value')\n",
    "plt.ylabel('Mean Absolute Error')"
   ]
  },
  {
   "cell_type": "markdown",
   "id": "2da71d8a",
   "metadata": {},
   "source": [
    "Looking at the plot, it seems the lowest MAE value is when K is 12. Let's get a closer look at the plot to be sure by plotting less data:"
   ]
  },
  {
   "cell_type": "code",
   "execution_count": 24,
   "id": "0e3e2eac",
   "metadata": {},
   "outputs": [
    {
     "data": {
      "text/plain": [
       "Text(0, 0.5, 'Mean Absolute Error')"
      ]
     },
     "execution_count": 24,
     "metadata": {},
     "output_type": "execute_result"
    },
    {
     "data": {
      "image/png": "[encoded data removed]",
      "text/plain": [
       "<Figure size 864x432 with 1 Axes>"
      ]
     },
     "metadata": {
      "needs_background": "light"
     },
     "output_type": "display_data"
    }
   ],
   "source": [
    "plt.figure(figsize=(12, 6))\n",
    "plt.plot(range(1, 15), error[:14], color='red', \n",
    "         linestyle='dashed', marker='o',\n",
    "         markerfacecolor='blue', markersize=10)\n",
    "plt.title('K Value MAE')\n",
    "plt.xlabel('K Value')\n",
    "plt.ylabel('Mean Absolute Error')"
   ]
  },
  {
   "cell_type": "markdown",
   "id": "fc62c4b4",
   "metadata": {},
   "source": [
    "You can also obtain the lowest error and the index of that point using the built-in min() function (works on lists) or convert the list into a NumPy array and get the argmin() (index of the element with the lowest value):"
   ]
  },
  {
   "cell_type": "code",
   "execution_count": 25,
   "id": "965b6f18",
   "metadata": {},
   "outputs": [
    {
     "name": "stdout",
     "output_type": "stream",
     "text": [
      "0.818708092192691\n",
      "6\n"
     ]
    }
   ],
   "source": [
    "import numpy as np \n",
    "\n",
    "print(min(error))               # 0.43631325936692505\n",
    "print(np.array(error).argmin()) # 11"
   ]
  },
  {
   "cell_type": "markdown",
   "id": "7b28da46",
   "metadata": {},
   "source": [
    "We started counting neighbors on 1, while arrays are 0-based, so the 11th index is 12 neighbors!\n",
    "\n",
    "This means that we need 12 neighbors to be able to predict a point with the lowest MAE error. We can execute the model and metrics again with 12 neighbors to compare results:"
   ]
  },
  {
   "cell_type": "code",
   "execution_count": 26,
   "id": "4cefee16",
   "metadata": {},
   "outputs": [
    {
     "ename": "NameError",
     "evalue": "name 'mean_squared_error' is not defined",
     "output_type": "error",
     "traceback": [
      "\u001b[1;31m---------------------------------------------------------------------------\u001b[0m",
      "\u001b[1;31mNameError\u001b[0m                                 Traceback (most recent call last)",
      "Input \u001b[1;32mIn [26]\u001b[0m, in \u001b[0;36m<cell line: 7>\u001b[1;34m()\u001b[0m\n\u001b[0;32m      4\u001b[0m r2 \u001b[38;5;241m=\u001b[39m knn_reg12\u001b[38;5;241m.\u001b[39mscore(X_test, y_test) \n\u001b[0;32m      6\u001b[0m mae12 \u001b[38;5;241m=\u001b[39m mean_absolute_error(y_test, y_pred12)\n\u001b[1;32m----> 7\u001b[0m mse12 \u001b[38;5;241m=\u001b[39m \u001b[43mmean_squared_error\u001b[49m(y_test, y_pred12)\n\u001b[0;32m      8\u001b[0m rmse12 \u001b[38;5;241m=\u001b[39m mean_squared_error(y_test, y_pred12, squared\u001b[38;5;241m=\u001b[39m\u001b[38;5;28;01mFalse\u001b[39;00m)\n\u001b[0;32m      9\u001b[0m \u001b[38;5;28mprint\u001b[39m(\u001b[38;5;124mf\u001b[39m\u001b[38;5;124m'\u001b[39m\u001b[38;5;124mr2: \u001b[39m\u001b[38;5;132;01m{\u001b[39;00mr2\u001b[38;5;132;01m}\u001b[39;00m\u001b[38;5;124m, \u001b[39m\u001b[38;5;130;01m\\n\u001b[39;00m\u001b[38;5;124mmae: \u001b[39m\u001b[38;5;132;01m{\u001b[39;00mmae12\u001b[38;5;132;01m}\u001b[39;00m\u001b[38;5;124m \u001b[39m\u001b[38;5;130;01m\\n\u001b[39;00m\u001b[38;5;124mmse: \u001b[39m\u001b[38;5;132;01m{\u001b[39;00mmse12\u001b[38;5;132;01m}\u001b[39;00m\u001b[38;5;124m \u001b[39m\u001b[38;5;130;01m\\n\u001b[39;00m\u001b[38;5;124mrmse: \u001b[39m\u001b[38;5;132;01m{\u001b[39;00mrmse12\u001b[38;5;132;01m}\u001b[39;00m\u001b[38;5;124m'\u001b[39m)\n",
      "\u001b[1;31mNameError\u001b[0m: name 'mean_squared_error' is not defined"
     ]
    }
   ],
   "source": [
    "knn_reg12 = KNeighborsRegressor(n_neighbors=12)\n",
    "knn_reg12.fit(X_train, y_train)\n",
    "y_pred12 = knn_reg12.predict(X_test)\n",
    "r2 = knn_reg12.score(X_test, y_test) \n",
    "\n",
    "mae12 = mean_absolute_error(y_test, y_pred12)\n",
    "mse12 = mean_squared_error(y_test, y_pred12)\n",
    "rmse12 = mean_squared_error(y_test, y_pred12, squared=False)\n",
    "print(f'r2: {r2}, \\nmae: {mae12} \\nmse: {mse12} \\nrmse: {rmse12}')"
   ]
  },
  {
   "cell_type": "code",
   "execution_count": null,
   "id": "12717b16",
   "metadata": {},
   "outputs": [],
   "source": []
  },
  {
   "cell_type": "markdown",
   "id": "0d5bf543",
   "metadata": {},
   "source": [
    "# Classification using K-Nearest Neighbors with Scikit-Learn"
   ]
  },
  {
   "cell_type": "markdown",
   "id": "d359ab74",
   "metadata": {},
   "source": [
    "## Preprocessing Data for Classification\n",
    "\n",
    "Let's create the data bins to transform our continuous values into categories:"
   ]
  },
  {
   "cell_type": "code",
   "execution_count": 20,
   "id": "61da00b8",
   "metadata": {},
   "outputs": [],
   "source": [
    "# Creating 4 categories and assigning them to a MedHouseValCat column\n",
    "df[\"MedHouseValCat\"] = pd.qcut(df[\"MedHouseVal\"], 4, retbins=False, labels=[1, 2, 3, 4])"
   ]
  },
  {
   "cell_type": "markdown",
   "id": "673c57d9",
   "metadata": {},
   "source": [
    "## Then, we can split our dataset into its attributes and labels:"
   ]
  },
  {
   "cell_type": "code",
   "execution_count": 21,
   "id": "8d7db68a",
   "metadata": {},
   "outputs": [],
   "source": [
    "y = df['MedHouseValCat']\n",
    "X = df.drop(['MedHouseVal', 'MedHouseValCat'], axis = 1)"
   ]
  },
  {
   "cell_type": "markdown",
   "id": "a5fe262f",
   "metadata": {},
   "source": [
    "## Splitting Data into Train and Test Sets"
   ]
  },
  {
   "cell_type": "code",
   "execution_count": 22,
   "id": "19284172",
   "metadata": {},
   "outputs": [],
   "source": [
    "from sklearn.model_selection import train_test_split\n",
    "\n",
    "SEED = 42\n",
    "X_train, X_test, y_train, y_test = train_test_split(X, y, test_size=0.25, random_state=SEED)"
   ]
  },
  {
   "cell_type": "markdown",
   "id": "45989619",
   "metadata": {},
   "source": [
    "## Feature Scaling for Classification"
   ]
  },
  {
   "cell_type": "code",
   "execution_count": 23,
   "id": "112e9d49",
   "metadata": {},
   "outputs": [],
   "source": [
    "from sklearn.preprocessing import StandardScaler\n",
    "\n",
    "scaler = StandardScaler()\n",
    "scaler.fit(X_train)\n",
    "\n",
    "X_train = scaler.transform(X_train)\n",
    "X_test = scaler.transform(X_test)"
   ]
  },
  {
   "cell_type": "markdown",
   "id": "6ae65eeb",
   "metadata": {},
   "source": [
    "## Training and Predicting for Classification"
   ]
  },
  {
   "cell_type": "code",
   "execution_count": 24,
   "id": "76f35546",
   "metadata": {},
   "outputs": [
    {
     "data": {
      "text/html": [
       "<style>#sk-container-id-3 {color: black;background-color: white;}#sk-container-id-3 pre{padding: 0;}#sk-container-id-3 div.sk-toggleable {background-color: white;}#sk-container-id-3 label.sk-toggleable__label {cursor: pointer;display: block;width: 100%;margin-bottom: 0;padding: 0.3em;box-sizing: border-box;text-align: center;}#sk-container-id-3 label.sk-toggleable__label-arrow:before {content: \"▸\";float: left;margin-right: 0.25em;color: #696969;}#sk-container-id-3 label.sk-toggleable__label-arrow:hover:before {color: black;}#sk-container-id-3 div.sk-estimator:hover label.sk-toggleable__label-arrow:before {color: black;}#sk-container-id-3 div.sk-toggleable__content {max-height: 0;max-width: 0;overflow: hidden;text-align: left;background-color: #f0f8ff;}#sk-container-id-3 div.sk-toggleable__content pre {margin: 0.2em;color: black;border-radius: 0.25em;background-color: #f0f8ff;}#sk-container-id-3 input.sk-toggleable__control:checked~div.sk-toggleable__content {max-height: 200px;max-width: 100%;overflow: auto;}#sk-container-id-3 input.sk-toggleable__control:checked~label.sk-toggleable__label-arrow:before {content: \"▾\";}#sk-container-id-3 div.sk-estimator input.sk-toggleable__control:checked~label.sk-toggleable__label {background-color: #d4ebff;}#sk-container-id-3 div.sk-label input.sk-toggleable__control:checked~label.sk-toggleable__label {background-color: #d4ebff;}#sk-container-id-3 input.sk-hidden--visually {border: 0;clip: rect(1px 1px 1px 1px);clip: rect(1px, 1px, 1px, 1px);height: 1px;margin: -1px;overflow: hidden;padding: 0;position: absolute;width: 1px;}#sk-container-id-3 div.sk-estimator {font-family: monospace;background-color: #f0f8ff;border: 1px dotted black;border-radius: 0.25em;box-sizing: border-box;margin-bottom: 0.5em;}#sk-container-id-3 div.sk-estimator:hover {background-color: #d4ebff;}#sk-container-id-3 div.sk-parallel-item::after {content: \"\";width: 100%;border-bottom: 1px solid gray;flex-grow: 1;}#sk-container-id-3 div.sk-label:hover label.sk-toggleable__label {background-color: #d4ebff;}#sk-container-id-3 div.sk-serial::before {content: \"\";position: absolute;border-left: 1px solid gray;box-sizing: border-box;top: 0;bottom: 0;left: 50%;z-index: 0;}#sk-container-id-3 div.sk-serial {display: flex;flex-direction: column;align-items: center;background-color: white;padding-right: 0.2em;padding-left: 0.2em;position: relative;}#sk-container-id-3 div.sk-item {position: relative;z-index: 1;}#sk-container-id-3 div.sk-parallel {display: flex;align-items: stretch;justify-content: center;background-color: white;position: relative;}#sk-container-id-3 div.sk-item::before, #sk-container-id-3 div.sk-parallel-item::before {content: \"\";position: absolute;border-left: 1px solid gray;box-sizing: border-box;top: 0;bottom: 0;left: 50%;z-index: -1;}#sk-container-id-3 div.sk-parallel-item {display: flex;flex-direction: column;z-index: 1;position: relative;background-color: white;}#sk-container-id-3 div.sk-parallel-item:first-child::after {align-self: flex-end;width: 50%;}#sk-container-id-3 div.sk-parallel-item:last-child::after {align-self: flex-start;width: 50%;}#sk-container-id-3 div.sk-parallel-item:only-child::after {width: 0;}#sk-container-id-3 div.sk-dashed-wrapped {border: 1px dashed gray;margin: 0 0.4em 0.5em 0.4em;box-sizing: border-box;padding-bottom: 0.4em;background-color: white;}#sk-container-id-3 div.sk-label label {font-family: monospace;font-weight: bold;display: inline-block;line-height: 1.2em;}#sk-container-id-3 div.sk-label-container {text-align: center;}#sk-container-id-3 div.sk-container {/* jupyter's `normalize.less` sets `[hidden] { display: none; }` but bootstrap.min.css set `[hidden] { display: none !important; }` so we also need the `!important` here to be able to override the default hidden behavior on the sphinx rendered scikit-learn.org. See: https://github.com/scikit-learn/scikit-learn/issues/21755 */display: inline-block !important;position: relative;}#sk-container-id-3 div.sk-text-repr-fallback {display: none;}</style><div id=\"sk-container-id-3\" class=\"sk-top-container\"><div class=\"sk-text-repr-fallback\"><pre>KNeighborsClassifier()</pre><b>In a Jupyter environment, please rerun this cell to show the HTML representation or trust the notebook. <br />On GitHub, the HTML representation is unable to render, please try loading this page with nbviewer.org.</b></div><div class=\"sk-container\" hidden><div class=\"sk-item\"><div class=\"sk-estimator sk-toggleable\"><input class=\"sk-toggleable__control sk-hidden--visually\" id=\"sk-estimator-id-3\" type=\"checkbox\" checked><label for=\"sk-estimator-id-3\" class=\"sk-toggleable__label sk-toggleable__label-arrow\">KNeighborsClassifier</label><div class=\"sk-toggleable__content\"><pre>KNeighborsClassifier()</pre></div></div></div></div></div>"
      ],
      "text/plain": [
       "KNeighborsClassifier()"
      ]
     },
     "execution_count": 24,
     "metadata": {},
     "output_type": "execute_result"
    }
   ],
   "source": [
    "from sklearn.neighbors import KNeighborsClassifier\n",
    "\n",
    "classifier = KNeighborsClassifier()\n",
    "classifier.fit(X_train, y_train)"
   ]
  },
  {
   "cell_type": "markdown",
   "id": "0bd70ad5",
   "metadata": {},
   "source": [
    "After fitting the KNeighborsClassifier, we can predict the classes of the test data:"
   ]
  },
  {
   "cell_type": "code",
   "execution_count": 25,
   "id": "80018a19",
   "metadata": {},
   "outputs": [],
   "source": [
    "y_pred = classifier.predict(X_test)"
   ]
  },
  {
   "cell_type": "markdown",
   "id": "f3c66db2",
   "metadata": {},
   "source": [
    "## Evaluating KNN for Classification\n",
    "\n",
    "### Let's score our classifier:"
   ]
  },
  {
   "cell_type": "code",
   "execution_count": 26,
   "id": "29114f93",
   "metadata": {},
   "outputs": [
    {
     "name": "stdout",
     "output_type": "stream",
     "text": [
      "0.6191860465116279\n"
     ]
    }
   ],
   "source": [
    "acc =  classifier.score(X_test, y_test)\n",
    "print(acc) # 0.6191860465116279"
   ]
  },
  {
   "cell_type": "code",
   "execution_count": null,
   "id": "9ed2c986",
   "metadata": {},
   "outputs": [],
   "source": []
  },
  {
   "cell_type": "code",
   "execution_count": null,
   "id": "b7574ef5",
   "metadata": {},
   "outputs": [],
   "source": []
  },
  {
   "cell_type": "code",
   "execution_count": null,
   "id": "78f99727",
   "metadata": {},
   "outputs": [],
   "source": [
    "plt.figure(figsize=(12, 6))\n",
    "plt.plot(range(1, 40), f1s, color='red', linestyle='dashed', marker='o',\n",
    "         markerfacecolor='blue', markersize=10)\n",
    "plt.title('F1 Score K Value')\n",
    "plt.xlabel('K Value')\n",
    "plt.ylabel('F1 Score')"
   ]
  },
  {
   "cell_type": "code",
   "execution_count": null,
   "id": "9c5b6936",
   "metadata": {},
   "outputs": [],
   "source": []
  },
  {
   "cell_type": "code",
   "execution_count": null,
   "id": "2d2a95ad",
   "metadata": {},
   "outputs": [],
   "source": [
    "classifier15 = KNeighborsClassifier(n_neighbors=15)\n",
    "classifier15.fit(X_train, y_train)\n",
    "y_pred15 = classifier15.predict(X_test)\n",
    "print(classification_report(y_test, y_pred15))"
   ]
  },
  {
   "cell_type": "code",
   "execution_count": null,
   "id": "d35e57fb",
   "metadata": {},
   "outputs": [],
   "source": []
  },
  {
   "cell_type": "markdown",
   "id": "2dd6d2de",
   "metadata": {},
   "source": [
    "## Pros and Cons of KNN\n",
    "\n",
    "# Pros\n",
    "\n",
    "- It is easy to implement\n",
    "- It is a lazy learning algorithm and therefore doesn't require training on all data points (only using the K-Nearest neighbors to predict). This makes the KNN algorithm much faster than other algorithms that require training with the whole dataset such as Support Vector Machines, linear regression, etc.\n",
    "- Since KNN requires no training before making predictions, new data can be added seamlessly\n",
    "- There are only two parameters required to work with KNN, i.e. the value of K and the distance function\n",
    "\n",
    "# Cons\n",
    "\n",
    "- The KNN algorithm doesn't work well with high dimensional data because with a large number of dimensions, the distance between points gets \"weird\", and the distance metrics we use don't hold up\n",
    "- Finally, the KNN algorithm doesn't work well with categorical features since it is difficult to find the distance between dimensions with categorical features"
   ]
  },
  {
   "cell_type": "code",
   "execution_count": null,
   "id": "19dc6796",
   "metadata": {},
   "outputs": [],
   "source": []
  }
 ],
 "metadata": {
  "kernelspec": {
   "display_name": "Python 3 (ipykernel)",
   "language": "python",
   "name": "python3"
  },
  "language_info": {
   "codemirror_mode": {
    "name": "ipython",
    "version": 3
   },
   "file_extension": ".py",
   "mimetype": "text/x-python",
   "name": "python",
   "nbconvert_exporter": "python",
   "pygments_lexer": "ipython3",
   "version": "3.9.12"
  }
 },
 "nbformat": 4,
 "nbformat_minor": 5
}
